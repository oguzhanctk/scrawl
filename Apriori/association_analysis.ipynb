{
 "cells": [
  {
   "cell_type": "code",
   "execution_count": 1,
   "metadata": {},
   "outputs": [],
   "source": [
    "import pandas as pd\n",
    "import numpy as np\n",
    "from efficient_apriori import apriori"
   ]
  },
  {
   "cell_type": "code",
   "execution_count": 2,
   "metadata": {
    "tags": []
   },
   "outputs": [],
   "source": [
    "df = pd.read_csv(\"store_data.csv\", header=None)\n",
    "clear_list = [[item for item in row if type(item) == str]for row in df.values]"
   ]
  },
  {
   "cell_type": "code",
   "execution_count": 3,
   "metadata": {},
   "outputs": [],
   "source": [
    "itemsets, rules = apriori(clear_list, min_support=0.01, min_confidence=0.35)"
   ]
  },
  {
   "cell_type": "code",
   "execution_count": 4,
   "metadata": {
    "tags": []
   },
   "outputs": [
    {
     "output_type": "stream",
     "name": "stdout",
     "text": "{french fries, spaghetti} -> {mineral water} (conf: 0.367, supp: 0.010, lift: 1.540, conv: 1.203)\n{eggs, spaghetti} -> {mineral water} (conf: 0.391, supp: 0.014, lift: 1.638, conv: 1.250)\n{chocolate, spaghetti} -> {mineral water} (conf: 0.405, supp: 0.016, lift: 1.698, conv: 1.280)\n{chocolate, eggs} -> {mineral water} (conf: 0.406, supp: 0.013, lift: 1.702, conv: 1.281)\n{eggs, milk} -> {mineral water} (conf: 0.424, supp: 0.013, lift: 1.780, conv: 1.323)\n{frozen vegetables, spaghetti} -> {mineral water} (conf: 0.431, supp: 0.012, lift: 1.807, conv: 1.338)\n{ground beef, spaghetti} -> {mineral water} (conf: 0.435, supp: 0.017, lift: 1.826, conv: 1.349)\n{chocolate, milk} -> {mineral water} (conf: 0.436, supp: 0.014, lift: 1.828, conv: 1.350)\n{milk, spaghetti} -> {mineral water} (conf: 0.444, supp: 0.016, lift: 1.861, conv: 1.369)\n{olive oil, spaghetti} -> {mineral water} (conf: 0.448, supp: 0.010, lift: 1.878, conv: 1.379)\n{pancakes, spaghetti} -> {mineral water} (conf: 0.455, supp: 0.011, lift: 1.909, conv: 1.398)\n{frozen vegetables, milk} -> {mineral water} (conf: 0.469, supp: 0.011, lift: 1.967, conv: 1.434)\n{chocolate, ground beef} -> {mineral water} (conf: 0.474, supp: 0.011, lift: 1.988, conv: 1.448)\n{ground beef, milk} -> {mineral water} (conf: 0.503, supp: 0.011, lift: 2.110, conv: 1.533)\n{eggs, ground beef} -> {mineral water} (conf: 0.507, supp: 0.010, lift: 2.126, conv: 1.544)\n{mineral water, olive oil} -> {spaghetti} (conf: 0.372, supp: 0.010, lift: 2.136, conv: 1.315)\n{ground beef, mineral water} -> {spaghetti} (conf: 0.417, supp: 0.017, lift: 2.395, conv: 1.416)\n"
    }
   ],
   "source": [
    "rules_rhs = filter(lambda rule: len(rule.lhs) == 2 and len(rule.rhs) == 1, rules)\n",
    "for rule in sorted(rules_rhs, key=lambda rule: rule.lift):\n",
    "    print(rule)"
   ]
  }
 ],
 "metadata": {
  "language_info": {
   "codemirror_mode": {
    "name": "ipython",
    "version": 3
   },
   "file_extension": ".py",
   "mimetype": "text/x-python",
   "name": "python",
   "nbconvert_exporter": "python",
   "pygments_lexer": "ipython3",
   "version": "3.7.6-final"
  },
  "orig_nbformat": 2,
  "kernelspec": {
   "name": "python37664bitbaseconda0ded40faa8164f549dbe7a32646a7b88",
   "display_name": "Python 3.7.6 64-bit ('base': conda)"
  }
 },
 "nbformat": 4,
 "nbformat_minor": 2
}